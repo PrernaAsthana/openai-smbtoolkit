{
 "cells": [
  {
   "cell_type": "markdown",
   "id": "49790187",
   "metadata": {},
   "source": [
    "# 🧪 Recommender System Demo\n",
    "This notebook demonstrates a simple cohort-based recommender using RFM (Recency, Frequency, Monetary) segmentation."
   ]
  },
  {
   "cell_type": "code",
   "execution_count": null,
   "id": "87a205d2",
   "metadata": {},
   "outputs": [],
   "source": [
    "import pandas as pd\n",
    "import numpy as np\n",
    "\n",
    "# Sample customer transactions\n",
    "data = {\n",
    "    'customer_id': ['A', 'B', 'C', 'D'],\n",
    "    'recency_days': [10, 45, 5, 90],\n",
    "    'frequency': [5, 2, 10, 1],\n",
    "    'monetary': [500, 150, 1200, 50]\n",
    "}\n",
    "df = pd.DataFrame(data)\n",
    "df"
   ]
  },
  {
   "cell_type": "markdown",
   "id": "7bc463c5",
   "metadata": {},
   "source": [
    "## 🧮 Assign RFM Scores"
   ]
  },
  {
   "cell_type": "code",
   "execution_count": null,
   "id": "261554f1",
   "metadata": {},
   "outputs": [],
   "source": [
    "# Simple quantile-based scoring\n",
    "df['R'] = pd.qcut(df['recency_days'], 4, labels=[4, 3, 2, 1]).astype(int)\n",
    "df['F'] = pd.qcut(df['frequency'], 4, labels=[1, 2, 3, 4]).astype(int)\n",
    "df['M'] = pd.qcut(df['monetary'], 4, labels=[1, 2, 3, 4]).astype(int)\n",
    "\n",
    "df['RFM_Score'] = df[['R','F','M']].sum(axis=1)\n",
    "df.sort_values(by='RFM_Score', ascending=False)"
   ]
  },
  {
   "cell_type": "markdown",
   "id": "94729bc2",
   "metadata": {},
   "source": [
    "## ✅ Use Case\n",
    "Customers with higher RFM scores are likely to respond well to premium offers. Use this to segment campaigns or product recommendations."
   ]
  }
 ],
 "metadata": {},
 "nbformat": 4,
 "nbformat_minor": 2
}