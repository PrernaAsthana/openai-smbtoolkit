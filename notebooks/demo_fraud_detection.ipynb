{
 "cells": [
  {
   "cell_type": "markdown",
   "id": "955073c3",
   "metadata": {},
   "source": [
    "# 🔍 Fraud Detection Demo\n",
    "This notebook demonstrates basic anomaly detection in time series data to simulate fraud detection using synthetic traffic data."
   ]
  },
  {
   "cell_type": "code",
   "execution_count": null,
   "id": "b61207ae",
   "metadata": {},
   "outputs": [],
   "source": [
    "import pandas as pd\n",
    "import numpy as np\n",
    "import matplotlib.pyplot as plt\n",
    "\n",
    "# Generate sample time series traffic data\n",
    "np.random.seed(42)\n",
    "dates = pd.date_range(start='2024-01-01', periods=100)\n",
    "traffic = np.random.poisson(lam=50, size=100)\n",
    "traffic[75:80] = traffic[75:80] + 100  # Inject anomaly\n",
    "\n",
    "df = pd.DataFrame({'date': dates, 'traffic': traffic})\n",
    "df.set_index('date').plot(title='Synthetic Traffic Data')\n",
    "plt.show()"
   ]
  },
  {
   "cell_type": "markdown",
   "id": "9e2dcfa0",
   "metadata": {},
   "source": [
    "## 🚨 Detect Anomalies"
   ]
  },
  {
   "cell_type": "code",
   "execution_count": null,
   "id": "64c46196",
   "metadata": {},
   "outputs": [],
   "source": [
    "# Detect anomalies using simple thresholding\n",
    "threshold = df['traffic'].mean() + 2 * df['traffic'].std()\n",
    "df['anomaly'] = df['traffic'] > threshold\n",
    "\n",
    "# Plot with anomalies\n",
    "plt.figure(figsize=(10,5))\n",
    "plt.plot(df['date'], df['traffic'], label='Traffic')\n",
    "plt.scatter(df[df['anomaly']]['date'], df[df['anomaly']]['traffic'], color='red', label='Anomaly')\n",
    "plt.axhline(y=threshold, color='gray', linestyle='--', label='Threshold')\n",
    "plt.legend()\n",
    "plt.title('Traffic Anomaly Detection')\n",
    "plt.xlabel('Date')\n",
    "plt.ylabel('Traffic Volume')\n",
    "plt.show()"
   ]
  },
  {
   "cell_type": "markdown",
   "id": "00e6bbfa",
   "metadata": {},
   "source": [
    "## ✅ Use Case\n",
    "Use this approach to detect unusual traffic bursts or bot-like behavior in messaging or API platforms."
   ]
  }
 ],
 "metadata": {},
 "nbformat": 4,
 "nbformat_minor": 2
}