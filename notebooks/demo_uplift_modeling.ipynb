{
 "cells": [
  {
   "cell_type": "markdown",
   "id": "7928690c",
   "metadata": {},
   "source": [
    "# 📈 Uplift Modeling Demo\n",
    "This notebook demonstrates a basic two-model approach to estimate causal uplift using synthetic data."
   ]
  },
  {
   "cell_type": "code",
   "execution_count": null,
   "id": "200a0978",
   "metadata": {},
   "outputs": [],
   "source": [
    "import pandas as pd\n",
    "import numpy as np\n",
    "from sklearn.linear_model import LogisticRegression\n",
    "from sklearn.model_selection import train_test_split\n",
    "from sklearn.metrics import roc_auc_score\n",
    "\n",
    "# Simulate dataset\n",
    "np.random.seed(42)\n",
    "n = 1000\n",
    "df = pd.DataFrame({\n",
    "    'age': np.random.randint(18, 65, n),\n",
    "    'income': np.random.normal(50000, 15000, n),\n",
    "    'treatment': np.random.binomial(1, 0.5, n)\n",
    "})\n",
    "df['response'] = (0.3 * df['treatment'] + \n",
    "                  0.02 * (df['age'] > 30).astype(int) + \n",
    "                  0.01 * (df['income'] > 60000).astype(int) + \n",
    "                  np.random.normal(0, 0.1, n)) > 0.5\n",
    "df['response'] = df['response'].astype(int)\n",
    "df.head()"
   ]
  },
  {
   "cell_type": "markdown",
   "id": "9aae6fa0",
   "metadata": {},
   "source": [
    "## 🎯 Build Separate Models for Treatment and Control"
   ]
  },
  {
   "cell_type": "code",
   "execution_count": null,
   "id": "232d6d19",
   "metadata": {},
   "outputs": [],
   "source": [
    "# Split data\n",
    "treat = df[df['treatment'] == 1]\n",
    "control = df[df['treatment'] == 0]\n",
    "\n",
    "# Train models\n",
    "features = ['age', 'income']\n",
    "model_t = LogisticRegression().fit(treat[features], treat['response'])\n",
    "model_c = LogisticRegression().fit(control[features], control['response'])\n",
    "\n",
    "# Predict uplift\n",
    "df['uplift'] = model_t.predict_proba(df[features])[:,1] - model_c.predict_proba(df[features])[:,1]\n",
    "df.sort_values('uplift', ascending=False).head(10)"
   ]
  },
  {
   "cell_type": "markdown",
   "id": "fc597eca",
   "metadata": {},
   "source": [
    "## ✅ Use Case\n",
    "Use uplift scores to target users most likely to respond **because of** a treatment—enabling more ethical and cost-efficient campaigns."
   ]
  }
 ],
 "metadata": {},
 "nbformat": 4,
 "nbformat_minor": 2
}